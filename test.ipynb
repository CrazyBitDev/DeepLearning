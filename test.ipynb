{
 "cells": [
  {
   "cell_type": "code",
   "execution_count": 2,
   "metadata": {},
   "outputs": [],
   "source": [
    "import os\n",
    "from PIL import Image\n",
    "from matplotlib import pyplot as plt\n",
    "import pandas as pd\n",
    "from IPython.display import display\n",
    "\n",
    "import torch\n",
    "import torch.nn.functional as F\n",
    "from torchvision import transforms as T\n",
    "\n",
    "from RAFDB_dataset import RAFDBDataset\n",
    "\n",
    "from models.ConvNet import ConvNet\n",
    "from models.ResNet import construct_ResNet_model\n",
    "from models.VGG import construct_VGG_model\n",
    "from models.GoogLeNet import construct_GoogLeNet_model\n",
    "from models.ViT import construct_ViT_model"
   ]
  },
  {
   "cell_type": "markdown",
   "metadata": {},
   "source": [
    "Load the validation dataset"
   ]
  },
  {
   "cell_type": "code",
   "execution_count": 3,
   "metadata": {},
   "outputs": [
    {
     "name": "stderr",
     "output_type": "stream",
     "text": [
      "                                                                     \r"
     ]
    }
   ],
   "source": [
    "val_dataset = RAFDBDataset('./raf-db-dataset', train=False)"
   ]
  },
  {
   "cell_type": "markdown",
   "metadata": {},
   "source": [
    "Load the models with their best weights"
   ]
  },
  {
   "cell_type": "code",
   "execution_count": 4,
   "metadata": {},
   "outputs": [
    {
     "name": "stderr",
     "output_type": "stream",
     "text": [
      "/home/zeus/miniconda3/envs/cloudspace/lib/python3.10/site-packages/torchvision/models/_utils.py:208: UserWarning: The parameter 'pretrained' is deprecated since 0.13 and may be removed in the future, please use 'weights' instead.\n",
      "  warnings.warn(\n",
      "/home/zeus/miniconda3/envs/cloudspace/lib/python3.10/site-packages/torchvision/models/_utils.py:223: UserWarning: Arguments other than a weight enum or `None` for 'weights' are deprecated since 0.13 and may be removed in the future. The current behavior is equivalent to passing `weights=ViT_B_16_Weights.IMAGENET1K_V1`. You can also use `weights=ViT_B_16_Weights.DEFAULT` to get the most up-to-date weights.\n",
      "  warnings.warn(msg)\n"
     ]
    },
    {
     "data": {
      "text/plain": [
       "<All keys matched successfully>"
      ]
     },
     "execution_count": 4,
     "metadata": {},
     "output_type": "execute_result"
    }
   ],
   "source": [
    "classes = val_dataset.classes\n",
    "classes_len = len(classes)\n",
    "\n",
    "device = torch.device('cuda' if torch.cuda.is_available() else 'cpu')\n",
    "\n",
    "model_ConvNet = ConvNet(classes_len).to(device).eval()\n",
    "model_ResNet = construct_ResNet_model(classes_len).to(device).eval()\n",
    "model_VGG = construct_VGG_model(classes_len).to(device).eval()\n",
    "model_GoogLeNet = construct_GoogLeNet_model(classes_len).to(device).eval()\n",
    "model_ViT = construct_ViT_model(classes_len).to(device).eval()\n",
    "model_ViT_mod = construct_ViT_model(classes_len, 100, 10).to(device).eval()\n",
    "\n",
    "\n",
    "model_ConvNet.load_state_dict(\n",
    "    torch.load(os.path.join('./results/ConvNet', 'best_model.pth'), map_location=device)\n",
    ")\n",
    "model_ResNet.load_state_dict(\n",
    "    torch.load(os.path.join('./results/ResNet18', 'best_model.pth'), map_location=device)\n",
    ")\n",
    "model_VGG.load_state_dict(\n",
    "    torch.load(os.path.join('./results/VGG16', 'best_model.pth'), map_location=device)\n",
    ")\n",
    "model_GoogLeNet.load_state_dict(\n",
    "    torch.load(os.path.join('./results/GoogLeNet', 'best_model.pth'), map_location=device)\n",
    ")\n",
    "model_ViT.load_state_dict(\n",
    "    torch.load(os.path.join('./results/ViT-B16', 'best_model.pth'), map_location=device)\n",
    ")\n",
    "model_ViT_mod.load_state_dict(\n",
    "    torch.load(os.path.join('./results/ViT-mod', 'best_model.pth'), map_location=device)\n",
    ")"
   ]
  },
  {
   "cell_type": "code",
   "execution_count": 5,
   "metadata": {},
   "outputs": [
    {
     "name": "stderr",
     "output_type": "stream",
     "text": [
      "Clipping input data to the valid range for imshow with RGB data ([0..1] for floats or [0..255] for integers).\n"
     ]
    },
    {
     "data": {
      "image/png": "[encoded data removed]",
      "text/plain": [
       "<Figure size 640x480 with 1 Axes>"
      ]
     },
     "metadata": {},
     "output_type": "display_data"
    },
    {
     "name": "stdout",
     "output_type": "stream",
     "text": [
      "Original image with label: Surprise (0)\n"
     ]
    },
    {
     "data": {
      "text/html": [
       "<div>\n",
       "<style scoped>\n",
       "    .dataframe tbody tr th:only-of-type {\n",
       "        vertical-align: middle;\n",
       "    }\n",
       "\n",
       "    .dataframe tbody tr th {\n",
       "        vertical-align: top;\n",
       "    }\n",
       "\n",
       "    .dataframe thead th {\n",
       "        text-align: right;\n",
       "    }\n",
       "</style>\n",
       "<table border=\"1\" class=\"dataframe\">\n",
       "  <thead>\n",
       "    <tr style=\"text-align: right;\">\n",
       "      <th></th>\n",
       "      <th>Surprise</th>\n",
       "      <th>Fear</th>\n",
       "      <th>Disgust</th>\n",
       "      <th>Happiness</th>\n",
       "      <th>Sadness</th>\n",
       "      <th>Anger</th>\n",
       "      <th>Neutral</th>\n",
       "      <th>Predicted</th>\n",
       "    </tr>\n",
       "  </thead>\n",
       "  <tbody>\n",
       "    <tr>\n",
       "      <th>ConvNet</th>\n",
       "      <td>0.114702</td>\n",
       "      <td>0.114702</td>\n",
       "      <td>0.114702</td>\n",
       "      <td>0.114702</td>\n",
       "      <td>0.114702</td>\n",
       "      <td>0.114702</td>\n",
       "      <td>0.311791</td>\n",
       "      <td>Neutral</td>\n",
       "    </tr>\n",
       "    <tr>\n",
       "      <th>ResNet18</th>\n",
       "      <td>0.729865</td>\n",
       "      <td>0.000737</td>\n",
       "      <td>0.003321</td>\n",
       "      <td>0.000919</td>\n",
       "      <td>0.000773</td>\n",
       "      <td>0.001187</td>\n",
       "      <td>0.263198</td>\n",
       "      <td>Surprise</td>\n",
       "    </tr>\n",
       "    <tr>\n",
       "      <th>VGG16</th>\n",
       "      <td>0.708417</td>\n",
       "      <td>0.283561</td>\n",
       "      <td>0.000007</td>\n",
       "      <td>0.000235</td>\n",
       "      <td>0.007737</td>\n",
       "      <td>0.000006</td>\n",
       "      <td>0.000037</td>\n",
       "      <td>Surprise</td>\n",
       "    </tr>\n",
       "    <tr>\n",
       "      <th>GoogLeNet</th>\n",
       "      <td>0.083830</td>\n",
       "      <td>0.000207</td>\n",
       "      <td>0.001981</td>\n",
       "      <td>0.001647</td>\n",
       "      <td>0.101593</td>\n",
       "      <td>0.000017</td>\n",
       "      <td>0.810724</td>\n",
       "      <td>Neutral</td>\n",
       "    </tr>\n",
       "    <tr>\n",
       "      <th>ViT-B/16</th>\n",
       "      <td>0.936075</td>\n",
       "      <td>0.000087</td>\n",
       "      <td>0.000662</td>\n",
       "      <td>0.000113</td>\n",
       "      <td>0.003661</td>\n",
       "      <td>0.000400</td>\n",
       "      <td>0.059003</td>\n",
       "      <td>Surprise</td>\n",
       "    </tr>\n",
       "    <tr>\n",
       "      <th>ViT-mod</th>\n",
       "      <td>0.203453</td>\n",
       "      <td>0.072487</td>\n",
       "      <td>0.156327</td>\n",
       "      <td>0.103575</td>\n",
       "      <td>0.124257</td>\n",
       "      <td>0.177400</td>\n",
       "      <td>0.162502</td>\n",
       "      <td>Surprise</td>\n",
       "    </tr>\n",
       "  </tbody>\n",
       "</table>\n",
       "</div>"
      ],
      "text/plain": [
       "           Surprise      Fear   Disgust  Happiness   Sadness     Anger  \\\n",
       "ConvNet    0.114702  0.114702  0.114702   0.114702  0.114702  0.114702   \n",
       "ResNet18   0.729865  0.000737  0.003321   0.000919  0.000773  0.001187   \n",
       "VGG16      0.708417  0.283561  0.000007   0.000235  0.007737  0.000006   \n",
       "GoogLeNet  0.083830  0.000207  0.001981   0.001647  0.101593  0.000017   \n",
       "ViT-B/16   0.936075  0.000087  0.000662   0.000113  0.003661  0.000400   \n",
       "ViT-mod    0.203453  0.072487  0.156327   0.103575  0.124257  0.177400   \n",
       "\n",
       "            Neutral Predicted  \n",
       "ConvNet    0.311791   Neutral  \n",
       "ResNet18   0.263198  Surprise  \n",
       "VGG16      0.000037  Surprise  \n",
       "GoogLeNet  0.810724   Neutral  \n",
       "ViT-B/16   0.059003  Surprise  \n",
       "ViT-mod    0.162502  Surprise  "
      ]
     },
     "metadata": {},
     "output_type": "display_data"
    },
    {
     "name": "stderr",
     "output_type": "stream",
     "text": [
      "Clipping input data to the valid range for imshow with RGB data ([0..1] for floats or [0..255] for integers).\n"
     ]
    },
    {
     "data": {
      "image/png": "[encoded data removed]",
      "text/plain": [
       "<Figure size 640x480 with 1 Axes>"
      ]
     },
     "metadata": {},
     "output_type": "display_data"
    },
    {
     "name": "stdout",
     "output_type": "stream",
     "text": [
      "Original image with label: Disgust (2)\n"
     ]
    },
    {
     "data": {
      "text/html": [
       "<div>\n",
       "<style scoped>\n",
       "    .dataframe tbody tr th:only-of-type {\n",
       "        vertical-align: middle;\n",
       "    }\n",
       "\n",
       "    .dataframe tbody tr th {\n",
       "        vertical-align: top;\n",
       "    }\n",
       "\n",
       "    .dataframe thead th {\n",
       "        text-align: right;\n",
       "    }\n",
       "</style>\n",
       "<table border=\"1\" class=\"dataframe\">\n",
       "  <thead>\n",
       "    <tr style=\"text-align: right;\">\n",
       "      <th></th>\n",
       "      <th>Surprise</th>\n",
       "      <th>Fear</th>\n",
       "      <th>Disgust</th>\n",
       "      <th>Happiness</th>\n",
       "      <th>Sadness</th>\n",
       "      <th>Anger</th>\n",
       "      <th>Neutral</th>\n",
       "      <th>Predicted</th>\n",
       "    </tr>\n",
       "  </thead>\n",
       "  <tbody>\n",
       "    <tr>\n",
       "      <th>ConvNet</th>\n",
       "      <td>1.147015e-01</td>\n",
       "      <td>1.147015e-01</td>\n",
       "      <td>0.114702</td>\n",
       "      <td>1.147015e-01</td>\n",
       "      <td>1.147015e-01</td>\n",
       "      <td>0.311791</td>\n",
       "      <td>1.147015e-01</td>\n",
       "      <td>Anger</td>\n",
       "    </tr>\n",
       "    <tr>\n",
       "      <th>ResNet18</th>\n",
       "      <td>7.934178e-04</td>\n",
       "      <td>7.112413e-03</td>\n",
       "      <td>0.010365</td>\n",
       "      <td>1.017236e-04</td>\n",
       "      <td>6.917056e-05</td>\n",
       "      <td>0.980826</td>\n",
       "      <td>7.319400e-04</td>\n",
       "      <td>Anger</td>\n",
       "    </tr>\n",
       "    <tr>\n",
       "      <th>VGG16</th>\n",
       "      <td>5.641036e-08</td>\n",
       "      <td>1.574523e-08</td>\n",
       "      <td>0.010435</td>\n",
       "      <td>6.977641e-07</td>\n",
       "      <td>1.231890e-07</td>\n",
       "      <td>0.989564</td>\n",
       "      <td>1.206483e-07</td>\n",
       "      <td>Anger</td>\n",
       "    </tr>\n",
       "    <tr>\n",
       "      <th>GoogLeNet</th>\n",
       "      <td>2.384253e-07</td>\n",
       "      <td>5.808154e-07</td>\n",
       "      <td>0.999527</td>\n",
       "      <td>2.576034e-06</td>\n",
       "      <td>2.764695e-05</td>\n",
       "      <td>0.000394</td>\n",
       "      <td>4.861802e-05</td>\n",
       "      <td>Disgust</td>\n",
       "    </tr>\n",
       "    <tr>\n",
       "      <th>ViT-B/16</th>\n",
       "      <td>6.130263e-05</td>\n",
       "      <td>2.805341e-05</td>\n",
       "      <td>0.000026</td>\n",
       "      <td>2.894941e-05</td>\n",
       "      <td>2.447931e-05</td>\n",
       "      <td>0.999444</td>\n",
       "      <td>3.870625e-04</td>\n",
       "      <td>Anger</td>\n",
       "    </tr>\n",
       "    <tr>\n",
       "      <th>ViT-mod</th>\n",
       "      <td>9.922687e-02</td>\n",
       "      <td>1.953804e-01</td>\n",
       "      <td>0.125122</td>\n",
       "      <td>6.915051e-02</td>\n",
       "      <td>1.634120e-01</td>\n",
       "      <td>0.198612</td>\n",
       "      <td>1.490959e-01</td>\n",
       "      <td>Anger</td>\n",
       "    </tr>\n",
       "  </tbody>\n",
       "</table>\n",
       "</div>"
      ],
      "text/plain": [
       "               Surprise          Fear   Disgust     Happiness       Sadness  \\\n",
       "ConvNet    1.147015e-01  1.147015e-01  0.114702  1.147015e-01  1.147015e-01   \n",
       "ResNet18   7.934178e-04  7.112413e-03  0.010365  1.017236e-04  6.917056e-05   \n",
       "VGG16      5.641036e-08  1.574523e-08  0.010435  6.977641e-07  1.231890e-07   \n",
       "GoogLeNet  2.384253e-07  5.808154e-07  0.999527  2.576034e-06  2.764695e-05   \n",
       "ViT-B/16   6.130263e-05  2.805341e-05  0.000026  2.894941e-05  2.447931e-05   \n",
       "ViT-mod    9.922687e-02  1.953804e-01  0.125122  6.915051e-02  1.634120e-01   \n",
       "\n",
       "              Anger       Neutral Predicted  \n",
       "ConvNet    0.311791  1.147015e-01     Anger  \n",
       "ResNet18   0.980826  7.319400e-04     Anger  \n",
       "VGG16      0.989564  1.206483e-07     Anger  \n",
       "GoogLeNet  0.000394  4.861802e-05   Disgust  \n",
       "ViT-B/16   0.999444  3.870625e-04     Anger  \n",
       "ViT-mod    0.198612  1.490959e-01     Anger  "
      ]
     },
     "metadata": {},
     "output_type": "display_data"
    },
    {
     "name": "stderr",
     "output_type": "stream",
     "text": [
      "Clipping input data to the valid range for imshow with RGB data ([0..1] for floats or [0..255] for integers).\n"
     ]
    },
    {
     "data": {
      "image/png": "[encoded data removed]",
      "text/plain": [
       "<Figure size 640x480 with 1 Axes>"
      ]
     },
     "metadata": {},
     "output_type": "display_data"
    },
    {
     "name": "stdout",
     "output_type": "stream",
     "text": [
      "Original image with label: Sadness (4)\n"
     ]
    },
    {
     "data": {
      "text/html": [
       "<div>\n",
       "<style scoped>\n",
       "    .dataframe tbody tr th:only-of-type {\n",
       "        vertical-align: middle;\n",
       "    }\n",
       "\n",
       "    .dataframe tbody tr th {\n",
       "        vertical-align: top;\n",
       "    }\n",
       "\n",
       "    .dataframe thead th {\n",
       "        text-align: right;\n",
       "    }\n",
       "</style>\n",
       "<table border=\"1\" class=\"dataframe\">\n",
       "  <thead>\n",
       "    <tr style=\"text-align: right;\">\n",
       "      <th></th>\n",
       "      <th>Surprise</th>\n",
       "      <th>Fear</th>\n",
       "      <th>Disgust</th>\n",
       "      <th>Happiness</th>\n",
       "      <th>Sadness</th>\n",
       "      <th>Anger</th>\n",
       "      <th>Neutral</th>\n",
       "      <th>Predicted</th>\n",
       "    </tr>\n",
       "  </thead>\n",
       "  <tbody>\n",
       "    <tr>\n",
       "      <th>ConvNet</th>\n",
       "      <td>1.147015e-01</td>\n",
       "      <td>1.147015e-01</td>\n",
       "      <td>1.147015e-01</td>\n",
       "      <td>1.147015e-01</td>\n",
       "      <td>0.311791</td>\n",
       "      <td>1.147015e-01</td>\n",
       "      <td>1.147015e-01</td>\n",
       "      <td>Sadness</td>\n",
       "    </tr>\n",
       "    <tr>\n",
       "      <th>ResNet18</th>\n",
       "      <td>8.378302e-06</td>\n",
       "      <td>1.997532e-06</td>\n",
       "      <td>2.234479e-04</td>\n",
       "      <td>1.793081e-04</td>\n",
       "      <td>0.990660</td>\n",
       "      <td>3.229792e-07</td>\n",
       "      <td>8.926976e-03</td>\n",
       "      <td>Sadness</td>\n",
       "    </tr>\n",
       "    <tr>\n",
       "      <th>VGG16</th>\n",
       "      <td>2.135967e-14</td>\n",
       "      <td>4.006036e-15</td>\n",
       "      <td>4.338863e-13</td>\n",
       "      <td>3.613172e-11</td>\n",
       "      <td>1.000000</td>\n",
       "      <td>2.440067e-14</td>\n",
       "      <td>2.332053e-10</td>\n",
       "      <td>Sadness</td>\n",
       "    </tr>\n",
       "    <tr>\n",
       "      <th>GoogLeNet</th>\n",
       "      <td>6.337516e-08</td>\n",
       "      <td>1.018798e-07</td>\n",
       "      <td>4.716787e-09</td>\n",
       "      <td>2.484086e-07</td>\n",
       "      <td>0.999672</td>\n",
       "      <td>2.589418e-08</td>\n",
       "      <td>3.273684e-04</td>\n",
       "      <td>Sadness</td>\n",
       "    </tr>\n",
       "    <tr>\n",
       "      <th>ViT-B/16</th>\n",
       "      <td>1.737191e-05</td>\n",
       "      <td>8.458795e-05</td>\n",
       "      <td>6.783687e-05</td>\n",
       "      <td>5.941111e-05</td>\n",
       "      <td>0.992874</td>\n",
       "      <td>1.404042e-05</td>\n",
       "      <td>6.882503e-03</td>\n",
       "      <td>Sadness</td>\n",
       "    </tr>\n",
       "    <tr>\n",
       "      <th>ViT-mod</th>\n",
       "      <td>1.746371e-01</td>\n",
       "      <td>7.766322e-02</td>\n",
       "      <td>1.440760e-01</td>\n",
       "      <td>8.507323e-02</td>\n",
       "      <td>0.135976</td>\n",
       "      <td>1.907848e-01</td>\n",
       "      <td>1.917894e-01</td>\n",
       "      <td>Neutral</td>\n",
       "    </tr>\n",
       "  </tbody>\n",
       "</table>\n",
       "</div>"
      ],
      "text/plain": [
       "               Surprise          Fear       Disgust     Happiness   Sadness  \\\n",
       "ConvNet    1.147015e-01  1.147015e-01  1.147015e-01  1.147015e-01  0.311791   \n",
       "ResNet18   8.378302e-06  1.997532e-06  2.234479e-04  1.793081e-04  0.990660   \n",
       "VGG16      2.135967e-14  4.006036e-15  4.338863e-13  3.613172e-11  1.000000   \n",
       "GoogLeNet  6.337516e-08  1.018798e-07  4.716787e-09  2.484086e-07  0.999672   \n",
       "ViT-B/16   1.737191e-05  8.458795e-05  6.783687e-05  5.941111e-05  0.992874   \n",
       "ViT-mod    1.746371e-01  7.766322e-02  1.440760e-01  8.507323e-02  0.135976   \n",
       "\n",
       "                  Anger       Neutral Predicted  \n",
       "ConvNet    1.147015e-01  1.147015e-01   Sadness  \n",
       "ResNet18   3.229792e-07  8.926976e-03   Sadness  \n",
       "VGG16      2.440067e-14  2.332053e-10   Sadness  \n",
       "GoogLeNet  2.589418e-08  3.273684e-04   Sadness  \n",
       "ViT-B/16   1.404042e-05  6.882503e-03   Sadness  \n",
       "ViT-mod    1.907848e-01  1.917894e-01   Neutral  "
      ]
     },
     "metadata": {},
     "output_type": "display_data"
    }
   ],
   "source": [
    "reshape_image_transform = T.Resize((224, 224))\n",
    "\n",
    "dataframes = {}\n",
    "\n",
    "with torch.no_grad():\n",
    "\n",
    "    for class_idx in [0, 2, 4]:\n",
    "        images_idxs = val_dataset.labels.index(class_idx)\n",
    "        img = val_dataset[images_idxs][0]\n",
    "\n",
    "        plt.imshow(img.permute(1, 2, 0).numpy())\n",
    "        # no axis\n",
    "        plt.axis('off')\n",
    "        plt.show()\n",
    "        print(\"Original image with label:\", val_dataset.class_names[class_idx], f\"({class_idx})\")\n",
    "\n",
    "        img_tensor = img.unsqueeze(0).to(device)\n",
    "        img_upscaled_tensor = reshape_image_transform(img).unsqueeze(0).to(device)\n",
    "\n",
    "        probs = {\n",
    "            'ConvNet': F.softmax(model_ConvNet(img_tensor), dim=1).cpu().numpy().flatten(),\n",
    "            'ResNet18': F.softmax(model_ResNet(img_upscaled_tensor), dim=1).cpu().numpy().flatten(),\n",
    "            'VGG16': F.softmax(model_VGG(img_upscaled_tensor), dim=1).cpu().numpy().flatten(),\n",
    "            'GoogLeNet': F.softmax(model_GoogLeNet(img_upscaled_tensor), dim=1).cpu().numpy().flatten(),\n",
    "            'ViT-B/16': F.softmax(model_ViT(img_upscaled_tensor), dim=1).cpu().numpy().flatten(),\n",
    "            'ViT-mod': F.softmax(model_ViT_mod(img_tensor), dim=1).cpu().numpy().flatten(),\n",
    "        }\n",
    "\n",
    "        # Create DataFrame\n",
    "        df = pd.DataFrame.from_dict(probs, orient='index', columns=val_dataset.class_names)\n",
    "\n",
    "        # Highlight the predicted class\n",
    "        df['Predicted'] = df[val_dataset.class_names].idxmax(axis=1)\n",
    "\n",
    "        # show\n",
    "        display(df)\n",
    "\n",
    "        dataframes[class_idx] = df\n",
    "        "
   ]
  },
  {
   "cell_type": "code",
   "execution_count": 15,
   "metadata": {},
   "outputs": [
    {
     "name": "stdout",
     "output_type": "stream",
     "text": [
      "\\begin{tabular}{lrrrrrrrl}\n",
      "\\toprule\n",
      " & Surprise & Fear & Disgust & Happiness & Sadness & Anger & Neutral & Predicted \\\\\n",
      "\\midrule\n",
      "ConvNet & 0.114702 & 0.114702 & 0.114702 & 0.114702 & 0.311791 & 0.114702 & 0.114702 & Sadness \\\\\n",
      "ResNet18 & 0.000008 & 0.000002 & 0.000223 & 0.000179 & 0.990660 & 0.000000 & 0.008927 & Sadness \\\\\n",
      "VGG16 & 0.000000 & 0.000000 & 0.000000 & 0.000000 & 1.000000 & 0.000000 & 0.000000 & Sadness \\\\\n",
      "GoogLeNet & 0.000000 & 0.000000 & 0.000000 & 0.000000 & 0.999672 & 0.000000 & 0.000327 & Sadness \\\\\n",
      "ViT-B/16 & 0.000017 & 0.000085 & 0.000068 & 0.000059 & 0.992874 & 0.000014 & 0.006883 & Sadness \\\\\n",
      "ViT-mod & 0.174637 & 0.077663 & 0.144076 & 0.085073 & 0.135976 & 0.190785 & 0.191789 & Neutral \\\\\n",
      "\\bottomrule\n",
      "\\end{tabular}\n",
      "\n"
     ]
    }
   ],
   "source": [
    "print(dataframes[4].to_latex())"
   ]
  }
 ],
 "metadata": {
  "language_info": {
   "name": "python"
  }
 },
 "nbformat": 4,
 "nbformat_minor": 2
}
